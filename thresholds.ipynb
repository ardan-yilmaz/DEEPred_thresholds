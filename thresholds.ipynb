{
 "cells": [
  {
   "cell_type": "code",
   "execution_count": 63,
   "metadata": {
    "scrolled": true
   },
   "outputs": [
    {
     "name": "stdout",
     "output_type": "stream",
     "text": [
      "len(x_train) =  2670\n",
      "len(y_train) =  2670\n"
     ]
    },
    {
     "data": {
      "text/plain": [
       "'\\n\\n\\n#####################################################################\\n############# X_TEST ################################################\\n#####################################################################\\nx_test=[]\\nfile1 = open(\\'x_test_multilabel_multiclass.txt\\', \\'r\\') \\nflag=0\\ntemp=[]\\nwhile True:\\n  line = file1.readline() \\n  if not line: \\n    break\\n  line = line.strip()\\n  if line[0]==\"[\" :   \\n    flag=1\\n    line=line[1:]\\n    line1= line.split(\" \")\\n    #print(line1)\\n    for i in range(0,len(line1)):\\n      if line1[i]!=\\'\\':\\n        temp.append(float(line1[i]))\\n  elif line[-1]==\"]\" :\\n    flag=0\\n    line=line[:-2]\\n    line1= line.split(\" \")\\n    #print(line1)\\n    for i in range(0,len(line1)):\\n      if line1[i]!=\\'\\':\\n        temp.append(float(line1[i]))\\n    x_test.append(temp)\\n    temp=[]\\n\\n  elif flag==1:\\n    \\n    line1= line.split(\" \")\\n    #print(line1)\\n    for i in range(0,len(line1)):\\n      if line1[i]!=\\'\\':\\n        temp.append(float(line1[i]))\\t    \\n\\t    \\nfile1.close()\\nprint(\"len(x_test) = \",len(x_test))\\n#####################################################################\\n############# X_TEST END ###########################################\\n#####################################################################\\n\\n\\n\\n#####################################################################\\n############# Y_TEST ################################################\\n#####################################################################\\ny_test=[]\\n\\nfile1 = open(\\'y_test_multilabel_multiclass.txt\\', \\'r\\') \\nk=0\\ntemp=[]\\nwhile True:\\n\\n  line = file1.readline()\\n  if not line: \\n    break\\n\\n  line = line.strip()\\n  line = line[1:-1]\\n  line1 = line.split(\" \")\\n  \\n  temp=[]\\n  for i in range(0,len(line1)):\\n    if int(line1[i][:-1]) != 0 and int(line1[i][:-1]) != 1:\\n      \\n      temp.append(1)\\n    else:\\n      temp.append(int(float(line1[i])))\\n  y_test.append(temp) \\n  k=k+1\\n   \\n\\t   \\nfile1.close()\\n\\nprint(\"len(y_test) = \",len(y_test))\\n#####################################################################\\n############# Y_TEST END ###########################################\\n#####################################################################\\n\\nx_train=np.array(x_train)\\ny_train=np.array(y_train)\\nx_test=np.array(x_test, dtype=np.float32 )\\ny_test=np.array(y_test, dtype=np.float32)\\n\\n\\nsikinti=0\\nfor i in range(0,len(y_train)):\\n  for j in range(0, 4):\\n    if y_train[i][j] == 0.0:\\n      y_train[i][j] = 0\\n\\n    elif y_train[i][j] ==1.0:\\n      y_train[i][j] = 1\\n      \\n \\nprint(\"sikinti = \", sikinti)\\n\\n\\nx_train = torch.from_numpy(x_train)\\ny_train = torch.from_numpy(y_train)\\nx_test = torch.from_numpy(x_test)\\ny_test = torch.from_numpy(y_test)\\n'"
      ]
     },
     "execution_count": 63,
     "metadata": {},
     "output_type": "execute_result"
    }
   ],
   "source": [
    "import pandas as pd\n",
    "from tensorflow.keras.models import Sequential\n",
    "from tensorflow.keras.layers import Dense\n",
    "from tensorflow.keras.wrappers.scikit_learn import KerasClassifier\n",
    "from tensorflow.keras.utils import to_categorical\n",
    "from sklearn.model_selection import cross_val_score\n",
    "from sklearn.model_selection import KFold\n",
    "from sklearn.preprocessing import LabelEncoder\n",
    "from sklearn.pipeline import Pipeline\n",
    "import pandas as pd\n",
    "import numpy as np\n",
    "import tensorflow\n",
    "from tensorflow.keras.utils import to_categorical\n",
    "from tensorflow.keras.models import Sequential\n",
    "\n",
    "from tensorflow.keras.optimizers import SGD, Adam\n",
    "\n",
    "\n",
    "import torch\n",
    "from torch.autograd import Variable\n",
    "\n",
    "\n",
    "#####################################################################\n",
    "############# X_TRAIN  ##############################################\n",
    "#####################################################################\n",
    "x_train=[]\n",
    "\n",
    "#file1 = open('x_train_multilabel_multiclass_dataset.txt', 'r') \n",
    "file1 = open('2nd_lev/multi-label/x_train_onelabel_multiclass.txt', 'r') \n",
    "flag=0\n",
    "temp=[]\n",
    "while True:\n",
    "\n",
    "  line = file1.readline() \n",
    "  if not line: \n",
    "    break\n",
    "\n",
    "  line = line.strip()\n",
    "  if line[0]==\"[\" :\n",
    "    \n",
    "    flag=1\n",
    "    line=line[1:]\n",
    "    line1= line.split(\" \")\n",
    "    #print(line1)\n",
    "    for i in range(0,len(line1)):\n",
    "      if line1[i]!='':\n",
    "        temp.append(float(line1[i]))\n",
    "\n",
    "\n",
    "  elif line[-1]==\"]\" :\n",
    "    flag=0\n",
    "    line=line[:-2]\n",
    "    line1= line.split(\" \")\n",
    "    #print(line1)\n",
    "    for i in range(0,len(line1)):\n",
    "      if line1[i]!='':\n",
    "        temp.append(float(line1[i]))\n",
    "    x_train.append(temp)\n",
    "    temp=[]\n",
    "\n",
    "  elif flag==1:\n",
    "    \n",
    "    line1= line.split(\" \")\n",
    "    #print(line1)\n",
    "    for i in range(0,len(line1)):\n",
    "      if line1[i]!='':\n",
    "        temp.append(float(line1[i]))\t    \n",
    "\t    \n",
    "file1.close()\n",
    "\n",
    "print(\"len(x_train) = \",len(x_train))\n",
    "#####################################################################\n",
    "############# X_TRAIN END ###########################################\n",
    "#####################################################################\n",
    "\n",
    "\n",
    "#####################################################################\n",
    "############# Y_TRAIN ###############################################\n",
    "#####################################################################\n",
    "y_train=[]\n",
    "\n",
    "file1 = open('2nd_lev/multi-label/y_train_onelabel_multiclass.txt', 'r')\n",
    "k=0\n",
    "temp=[]\n",
    "while True:\n",
    "\n",
    "  line = file1.readline()\n",
    "  if not line: \n",
    "    break\n",
    "\n",
    "  line = line.strip()\n",
    "  line = line[1:-1]\n",
    "  line1 = line.split(\" \")\n",
    "  \n",
    "  temp=[]\n",
    "  for i in range(0,len(line1)):\n",
    "    if int(line1[i][:-1]) != 0 and int(line1[i][:-1]) != 1:\n",
    "      \n",
    "      temp.append(1)\n",
    "    else:\n",
    "      temp.append(int(float(line1[i])))\n",
    "  y_train.append(temp) \n",
    "  k=k+1\n",
    "   \n",
    "\t   \n",
    "file1.close()\n",
    "\n",
    "print(\"len(y_train) = \",len(y_train))\n",
    "#####################################################################\n",
    "############# Y_TRAIN END ###########################################\n",
    "#####################################################################\n",
    "\n",
    "'''\n",
    "\n",
    "\n",
    "#####################################################################\n",
    "############# X_TEST ################################################\n",
    "#####################################################################\n",
    "x_test=[]\n",
    "file1 = open('x_test_multilabel_multiclass.txt', 'r') \n",
    "flag=0\n",
    "temp=[]\n",
    "while True:\n",
    "  line = file1.readline() \n",
    "  if not line: \n",
    "    break\n",
    "  line = line.strip()\n",
    "  if line[0]==\"[\" :   \n",
    "    flag=1\n",
    "    line=line[1:]\n",
    "    line1= line.split(\" \")\n",
    "    #print(line1)\n",
    "    for i in range(0,len(line1)):\n",
    "      if line1[i]!='':\n",
    "        temp.append(float(line1[i]))\n",
    "  elif line[-1]==\"]\" :\n",
    "    flag=0\n",
    "    line=line[:-2]\n",
    "    line1= line.split(\" \")\n",
    "    #print(line1)\n",
    "    for i in range(0,len(line1)):\n",
    "      if line1[i]!='':\n",
    "        temp.append(float(line1[i]))\n",
    "    x_test.append(temp)\n",
    "    temp=[]\n",
    "\n",
    "  elif flag==1:\n",
    "    \n",
    "    line1= line.split(\" \")\n",
    "    #print(line1)\n",
    "    for i in range(0,len(line1)):\n",
    "      if line1[i]!='':\n",
    "        temp.append(float(line1[i]))\t    \n",
    "\t    \n",
    "file1.close()\n",
    "print(\"len(x_test) = \",len(x_test))\n",
    "#####################################################################\n",
    "############# X_TEST END ###########################################\n",
    "#####################################################################\n",
    "\n",
    "\n",
    "\n",
    "#####################################################################\n",
    "############# Y_TEST ################################################\n",
    "#####################################################################\n",
    "y_test=[]\n",
    "\n",
    "file1 = open('y_test_multilabel_multiclass.txt', 'r') \n",
    "k=0\n",
    "temp=[]\n",
    "while True:\n",
    "\n",
    "  line = file1.readline()\n",
    "  if not line: \n",
    "    break\n",
    "\n",
    "  line = line.strip()\n",
    "  line = line[1:-1]\n",
    "  line1 = line.split(\" \")\n",
    "  \n",
    "  temp=[]\n",
    "  for i in range(0,len(line1)):\n",
    "    if int(line1[i][:-1]) != 0 and int(line1[i][:-1]) != 1:\n",
    "      \n",
    "      temp.append(1)\n",
    "    else:\n",
    "      temp.append(int(float(line1[i])))\n",
    "  y_test.append(temp) \n",
    "  k=k+1\n",
    "   \n",
    "\t   \n",
    "file1.close()\n",
    "\n",
    "print(\"len(y_test) = \",len(y_test))\n",
    "#####################################################################\n",
    "############# Y_TEST END ###########################################\n",
    "#####################################################################\n",
    "\n",
    "x_train=np.array(x_train)\n",
    "y_train=np.array(y_train)\n",
    "x_test=np.array(x_test, dtype=np.float32 )\n",
    "y_test=np.array(y_test, dtype=np.float32)\n",
    "\n",
    "\n",
    "sikinti=0\n",
    "for i in range(0,len(y_train)):\n",
    "  for j in range(0, 4):\n",
    "    if y_train[i][j] == 0.0:\n",
    "      y_train[i][j] = 0\n",
    "\n",
    "    elif y_train[i][j] ==1.0:\n",
    "      y_train[i][j] = 1\n",
    "      \n",
    " \n",
    "print(\"sikinti = \", sikinti)\n",
    "\n",
    "\n",
    "x_train = torch.from_numpy(x_train)\n",
    "y_train = torch.from_numpy(y_train)\n",
    "x_test = torch.from_numpy(x_test)\n",
    "y_test = torch.from_numpy(y_test)\n",
    "'''\n"
   ]
  },
  {
   "cell_type": "code",
   "execution_count": 66,
   "metadata": {},
   "outputs": [
    {
     "data": {
      "text/plain": [
       "[1, 0, 0, 0]"
      ]
     },
     "execution_count": 66,
     "metadata": {},
     "output_type": "execute_result"
    }
   ],
   "source": [
    "y_train[0]"
   ]
  },
  {
   "cell_type": "code",
   "execution_count": 19,
   "metadata": {},
   "outputs": [],
   "source": [
    "from sklearn.model_selection import train_test_split\n",
    "x_train, x_test, y_train, y_test = train_test_split(x_train, y_train, test_size=0.2)"
   ]
  },
  {
   "cell_type": "code",
   "execution_count": 3,
   "metadata": {},
   "outputs": [],
   "source": [
    "from sklearn.utils import shuffle\n",
    "x_train, y_train = shuffle(x_train, y_train)\n",
    "x_test, y_test = shuffle(x_test, y_test)"
   ]
  },
  {
   "cell_type": "code",
   "execution_count": 4,
   "metadata": {},
   "outputs": [],
   "source": [
    "from sklearn.preprocessing import StandardScaler\n",
    "scaler = StandardScaler()\n",
    "x_train = scaler.fit_transform( x_train )\n",
    "x_test = scaler.transform( x_test )"
   ]
  },
  {
   "cell_type": "code",
   "execution_count": 20,
   "metadata": {},
   "outputs": [],
   "source": [
    "x_train, y_train = torch.tensor(x_train).float(), torch.tensor(y_train)\n",
    "x_test, y_test = torch.tensor(x_test).float(), torch.tensor(y_test)"
   ]
  },
  {
   "cell_type": "code",
   "execution_count": 23,
   "metadata": {
    "scrolled": false
   },
   "outputs": [],
   "source": [
    "model = torch.nn.Sequential(\n",
    "    torch.nn.Linear(400, 300),\n",
    "    \n",
    "    torch.nn.ReLU(),\n",
    "    torch.nn.Linear(300, 200),\n",
    "    torch.nn.ReLU(),\n",
    "    torch.nn.Linear(200, 100),\n",
    "    torch.nn.ReLU(),\n",
    "    torch.nn.Linear(100, 4),\n",
    "    #torch.nn.ReLU(),\n",
    "    #torch.nn.Linear(50, 4),\n",
    "    torch.nn.Softmax()\n",
    "    #torch.nn.Sigmoid()\n",
    "\n",
    ")\n",
    "loss_function = torch.nn.BCELoss()\n",
    "optimizer = torch.optim.SGD(model.parameters(), lr=5e-4, momentum=0.9)\n",
    "num_epoch = 250\n",
    "for epoch in range(num_epoch):\n",
    "    input = Variable(x_train)\n",
    "    target = Variable(y_train)\n",
    "    input= torch.reshape(input, (input.shape[0], input.shape[1]))\n",
    "    # forward\n",
    "    out = model(input.float())\n",
    "    loss = loss_function(out, target.float())\n",
    "\n",
    "    # backward\n",
    "    optimizer.zero_grad()\n",
    "    loss.backward()\n",
    "    optimizer.step()\n",
    "\n",
    "    # show\n",
    "    #print('Epoch[{}/{}], loss: {:.6f}'\n",
    "    #     .format(epoch + 1, num_epoch, loss.data.item()))"
   ]
  },
  {
   "cell_type": "code",
   "execution_count": 24,
   "metadata": {},
   "outputs": [],
   "source": [
    "y_pred = model(x_test)\n",
    "num_of_annots, num_of_classes = y_pred.shape\n",
    "y_pred_altered = np.zeros((num_of_annots, num_of_classes))"
   ]
  },
  {
   "cell_type": "code",
   "execution_count": 25,
   "metadata": {
    "scrolled": true
   },
   "outputs": [
    {
     "data": {
      "text/plain": [
       "tensor([[0.2324, 0.2422, 0.2756, 0.2498],\n",
       "        [0.2330, 0.2454, 0.2696, 0.2520],\n",
       "        [0.2181, 0.2460, 0.2994, 0.2366],\n",
       "        ...,\n",
       "        [0.2419, 0.2425, 0.2602, 0.2554],\n",
       "        [0.2384, 0.2430, 0.2643, 0.2544],\n",
       "        [0.2420, 0.2440, 0.2562, 0.2578]], grad_fn=<SoftmaxBackward>)"
      ]
     },
     "execution_count": 25,
     "metadata": {},
     "output_type": "execute_result"
    }
   ],
   "source": [
    "y_pred"
   ]
  },
  {
   "cell_type": "code",
   "execution_count": 26,
   "metadata": {},
   "outputs": [],
   "source": [
    "#returns the true labels per given class\n",
    "def true_labels_for_class(term):\n",
    "    true_labels = list()    \n",
    "    for x in y_test:\n",
    "        true_labels.append(int(x[term]))\n",
    "        \n",
    "    return true_labels \n",
    "\n",
    "\n",
    "#returns initial prediction scores per given class\n",
    "def init_pred_per_class(term):\n",
    "    terms = list()    \n",
    "    for x in y_pred:\n",
    "        terms.append(x[term])\n",
    "        \n",
    "    return terms\n",
    "\n",
    "\n",
    "\n",
    "def alter_preds(optimal_threshold, term):    \n",
    "    for i in range(0, num_of_annots):\n",
    "        if y_pred[i][term] > optimal_threshold:\n",
    "            y_pred_altered[i][term] = 1\n",
    "        else:\n",
    "            y_pred_altered[i][term] = 0    \n",
    "    #print(y_pred)"
   ]
  },
  {
   "cell_type": "code",
   "execution_count": 27,
   "metadata": {},
   "outputs": [],
   "source": [
    "#calculates f1 score for the given class with the given threshold val\n",
    "from sklearn.metrics import f1_score\n",
    "def score_per_class(term, threshold, num_of_annots, true_labels):     \n",
    "\n",
    "    preds = init_pred_per_class(term)\n",
    "    \n",
    "    for i in range(0, num_of_annots):\n",
    "        if preds[i] > threshold:\n",
    "            preds[i] = 1\n",
    "        else:\n",
    "            preds[i] = 0   \n",
    "            \n",
    "    score = f1_score(true_labels, preds, average=\"binary\") \n",
    "    m_score = matthews_corrcoef(true_labels, preds)\n",
    "    \n",
    "    #print(\"calc f1 score:\", score, \"m_score:\", m_score ,\"on threshold:\", threshold)\n",
    "   \n",
    "\n",
    "    \n",
    "    return score, m_score, preds  "
   ]
  },
  {
   "cell_type": "code",
   "execution_count": 71,
   "metadata": {},
   "outputs": [],
   "source": [
    "#to find the threshold values for the given class:term using f1-score\n",
    "from sklearn.metrics import matthews_corrcoef\n",
    "from sklearn.metrics import confusion_matrix\n",
    "\n",
    "def treshold_per_class_f1_score(term, num_of_annots):   \n",
    "    \n",
    "    threshold = 0.1\n",
    "    max_f1_score = -1\n",
    "    optimal_threshold = -1\n",
    "    max_matthews_corrcoef = -1\n",
    "    true_labels = true_labels_for_class(term)    \n",
    "    preds_opt = np.array(num_of_annots) \n",
    "    \n",
    "    while(threshold < 1):\n",
    "        \n",
    "        score, matthews_corrcoef, preds = score_per_class(term, threshold, num_of_annots, true_labels)        \n",
    "\n",
    "            \n",
    "        \n",
    "        if score > max_f1_score:            \n",
    "            #print(\"calc f1 score:\", score , \"prev score: \", max_f1_score ,\"prev threshold:\", optimal_threshold)    \n",
    "            max_matthews_corrcoef = matthews_corrcoef\n",
    "            max_f1_score = score\n",
    "            optimal_threshold = threshold   \n",
    "            preds_opt = preds\n",
    "            #print(\"new threshold:\" , optimal_threshold)\n",
    "            \n",
    "        threshold += 0.01\n",
    "        \n",
    "         \n",
    "        \n",
    "        \n",
    "        \n",
    "    print(\"the optimal threshold is\", optimal_threshold, \"for term\", term, \" with f1-score: \", max_f1_score, \" and matthews_corrcoef\", max_matthews_corrcoef)\n",
    "    print(\"confusion matrix:\")\n",
    "    print(confusion_matrix(true_labels, preds_opt))\n",
    "    #print(\"preds\",preds_opt)\n",
    "    #print(\"true label\",true_labels)\n",
    "\n",
    "    \n",
    "    #after finding the threshold values per class, alter the predictions \n",
    "    alter_preds(optimal_threshold, term)\n",
    "    \n",
    "    return optimal_threshold"
   ]
  },
  {
   "cell_type": "code",
   "execution_count": 72,
   "metadata": {},
   "outputs": [],
   "source": [
    "#to find the threshold values for the given class:term using matthews_corrcoef\n",
    "from sklearn.metrics import matthews_corrcoef\n",
    "from sklearn.metrics import confusion_matrix\n",
    "\n",
    "def treshold_per_class_matth(term, num_of_annots):   \n",
    "    \n",
    "    threshold = 0.1\n",
    "    max_f1_score = -1\n",
    "    optimal_threshold = -1\n",
    "    max_matthews_corrcoef = -1\n",
    "    true_labels = true_labels_for_class(term)    \n",
    "    preds_opt = np.array(num_of_annots) \n",
    "    \n",
    "    while(threshold < 1):\n",
    "        \n",
    "        score, matthews_corrcoef, preds = score_per_class(term, threshold, num_of_annots, true_labels)        \n",
    "        #print(\"calc f1 score:\", score ,\"on threshold:\", threshold)       \n",
    "\n",
    "        if matthews_corrcoef > max_matthews_corrcoef:\n",
    "            #print(\"matthews_corrcoef\", matthews_corrcoef)\n",
    "            max_matthews_corrcoef = matthews_corrcoef\n",
    "            max_f1_score = score\n",
    "            optimal_threshold = threshold\n",
    "            preds_opt = preds\n",
    "        threshold += 0.01\n",
    "        \n",
    "    print(\"the optimal threshold is\", optimal_threshold, \"for term\", term, \" with f1-score: \", max_f1_score, \" and matthews_corrcoef\", max_matthews_corrcoef)\n",
    "    print(\"confusion matrix:\")\n",
    "    print(confusion_matrix(true_labels, preds_opt))\n",
    "    #print(\"preds\",preds_opt)\n",
    "    #print(\"true label\",true_labels)\n",
    "\n",
    "    \n",
    "    #after finding the threshold values per class, alter the predictions \n",
    "    alter_preds(optimal_threshold, term)\n",
    "    \n",
    "    return optimal_threshold        "
   ]
  },
  {
   "cell_type": "code",
   "execution_count": 79,
   "metadata": {
    "scrolled": true
   },
   "outputs": [
    {
     "name": "stdout",
     "output_type": "stream",
     "text": [
      "F1 SCORES\n",
      "the optimal threshold is 0.21000000000000008 for term 0  with f1-score:  0.3155339805825243  and matthews_corrcoef 0.06511352617790299\n",
      "confusion matrix:\n",
      "[[188 534]\n",
      " [ 30 130]]\n",
      "\n",
      "MATTHEWS CORRCOEF \n",
      "the optimal threshold is 0.21000000000000008 for term 0  with f1-score:  0.3155339805825243  and matthews_corrcoef 0.06511352617790299\n",
      "confusion matrix:\n",
      "[[188 534]\n",
      " [ 30 130]]\n",
      "F1 SCORES\n",
      "the optimal threshold is 0.22000000000000008 for term 1  with f1-score:  0.3675310033821872  and matthews_corrcoef 0.11338189647311747\n",
      "confusion matrix:\n",
      "[[158 540]\n",
      " [ 21 163]]\n",
      "\n",
      "MATTHEWS CORRCOEF \n",
      "the optimal threshold is 0.22000000000000008 for term 1  with f1-score:  0.3675310033821872  and matthews_corrcoef 0.11338189647311747\n",
      "confusion matrix:\n",
      "[[158 540]\n",
      " [ 21 163]]\n",
      "F1 SCORES\n",
      "the optimal threshold is 0.19000000000000006 for term 2  with f1-score:  0.4827586206896552  and matthews_corrcoef 0.03251280443811776\n",
      "confusion matrix:\n",
      "[[  2 600]\n",
      " [  0 280]]\n",
      "\n",
      "MATTHEWS CORRCOEF \n",
      "the optimal threshold is 0.31000000000000016 for term 2  with f1-score:  0.3236514522821577  and matthews_corrcoef 0.08041407412958508\n",
      "confusion matrix:\n",
      "[[478 124]\n",
      " [202  78]]\n",
      "F1 SCORES\n",
      "the optimal threshold is 0.1 for term 3  with f1-score:  0.4526315789473684  and matthews_corrcoef 0.0\n",
      "confusion matrix:\n",
      "[[  0 624]\n",
      " [  0 258]]\n",
      "\n",
      "MATTHEWS CORRCOEF \n",
      "the optimal threshold is 0.2600000000000001 for term 3  with f1-score:  0.3157894736842105  and matthews_corrcoef 0.03522866166915382\n",
      "confusion matrix:\n",
      "[[450 174]\n",
      " [177  81]]\n"
     ]
    }
   ],
   "source": [
    "#to find the threshold values for all classes\n",
    "def all_thresholds(): \n",
    "    for i in range(0, num_of_classes):\n",
    "        print(\"F1 SCORES\")\n",
    "        treshold_per_class_f1_score(i, num_of_annots)\n",
    "        print()\n",
    "        print(\"MATTHEWS CORRCOEF \")\n",
    "        treshold_per_class_matth(i, num_of_annots)\n",
    "        \n",
    "all_thresholds()        "
   ]
  },
  {
   "cell_type": "code",
   "execution_count": 80,
   "metadata": {},
   "outputs": [
    {
     "ename": "AttributeError",
     "evalue": "'numpy.ndarray' object has no attribute 'detach'",
     "output_type": "error",
     "traceback": [
      "\u001b[1;31m---------------------------------------------------------------------------\u001b[0m",
      "\u001b[1;31mAttributeError\u001b[0m                            Traceback (most recent call last)",
      "\u001b[1;32m<ipython-input-80-7114bb499a3b>\u001b[0m in \u001b[0;36m<module>\u001b[1;34m\u001b[0m\n\u001b[1;32m----> 1\u001b[1;33m \u001b[0my_test\u001b[0m \u001b[1;33m=\u001b[0m \u001b[0my_test\u001b[0m\u001b[1;33m.\u001b[0m\u001b[0mdetach\u001b[0m\u001b[1;33m(\u001b[0m\u001b[1;33m)\u001b[0m\u001b[1;33m.\u001b[0m\u001b[0mnumpy\u001b[0m\u001b[1;33m(\u001b[0m\u001b[1;33m)\u001b[0m\u001b[1;33m\u001b[0m\u001b[1;33m\u001b[0m\u001b[0m\n\u001b[0m\u001b[0;32m      2\u001b[0m \u001b[0my_pred\u001b[0m \u001b[1;33m=\u001b[0m \u001b[0my_pred\u001b[0m\u001b[1;33m.\u001b[0m\u001b[0mdetach\u001b[0m\u001b[1;33m(\u001b[0m\u001b[1;33m)\u001b[0m\u001b[1;33m.\u001b[0m\u001b[0mnumpy\u001b[0m\u001b[1;33m(\u001b[0m\u001b[1;33m)\u001b[0m\u001b[1;33m\u001b[0m\u001b[1;33m\u001b[0m\u001b[0m\n",
      "\u001b[1;31mAttributeError\u001b[0m: 'numpy.ndarray' object has no attribute 'detach'"
     ]
    }
   ],
   "source": [
    "y_test = y_test.detach().numpy()\n",
    "y_pred = y_pred.detach().numpy()"
   ]
  },
  {
   "cell_type": "code",
   "execution_count": null,
   "metadata": {
    "scrolled": true
   },
   "outputs": [],
   "source": [
    "y_pred_altered"
   ]
  },
  {
   "cell_type": "code",
   "execution_count": 65,
   "metadata": {},
   "outputs": [],
   "source": [
    "y_test = y_test.detach().numpy()"
   ]
  },
  {
   "cell_type": "code",
   "execution_count": 66,
   "metadata": {
    "scrolled": true
   },
   "outputs": [
    {
     "data": {
      "text/plain": [
       "0.8621700879765396"
      ]
     },
     "execution_count": 66,
     "metadata": {},
     "output_type": "execute_result"
    }
   ],
   "source": [
    "f1_score(y_test, y_pred_altered, average=\"micro\")"
   ]
  },
  {
   "cell_type": "code",
   "execution_count": 67,
   "metadata": {
    "scrolled": true
   },
   "outputs": [
    {
     "data": {
      "text/plain": [
       "0.8560038567011725"
      ]
     },
     "execution_count": 67,
     "metadata": {},
     "output_type": "execute_result"
    }
   ],
   "source": [
    "f1_score(y_test, y_pred_altered, average=\"macro\")"
   ]
  }
 ],
 "metadata": {
  "kernelspec": {
   "display_name": "Python 3",
   "language": "python",
   "name": "python3"
  },
  "language_info": {
   "codemirror_mode": {
    "name": "ipython",
    "version": 3
   },
   "file_extension": ".py",
   "mimetype": "text/x-python",
   "name": "python",
   "nbconvert_exporter": "python",
   "pygments_lexer": "ipython3",
   "version": "3.7.6"
  }
 },
 "nbformat": 4,
 "nbformat_minor": 4
}
